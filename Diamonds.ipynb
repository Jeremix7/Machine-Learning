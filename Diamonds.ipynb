{
 "cells": [
  {
   "cell_type": "markdown",
   "metadata": {
    "id": "q3pqxgX4DxeH"
   },
   "source": [
    "**[<font size=6>💎Diamonds team Y</font>](https://www.kaggle.com/t/73a7efacaa4342bcbe58932e62743ed4)**"
   ]
  },
  {
   "cell_type": "code",
   "execution_count": null,
   "metadata": {
    "colab": {
     "base_uri": "https://localhost:8080/"
    },
    "id": "mPXkUBs6eMHH",
    "outputId": "f9a35738-ed99-4d8e-8b01-ae8a30588d7a"
   },
   "outputs": [
    {
     "name": "stdout",
     "output_type": "stream",
     "text": [
      "Drive already mounted at /content/drive; to attempt to forcibly remount, call drive.mount(\"/content/drive\", force_remount=True).\n"
     ]
    }
   ],
   "source": [
    "from google.colab import drive; drive.mount('/content/drive')   # OK to enable, if your kaggle.json is stored in Google Drive"
   ]
  },
  {
   "cell_type": "code",
   "execution_count": null,
   "metadata": {
    "colab": {
     "base_uri": "https://localhost:8080/"
    },
    "id": "d8XoC8VqBXGs",
    "outputId": "12dff1a1-9516-4eff-8e3c-a6ce17b6994d"
   },
   "outputs": [
    {
     "name": "stdout",
     "output_type": "stream",
     "text": [
      "- competition is now set to: 29oct24hse-diamonds\n",
      "100% 3.30M/3.30M [00:00<00:00, 192MB/s]\n",
      "Using competition: 29oct24hse-diamonds\n",
      "  teamId  teamName     submissionDate       score       \n",
      "--------  -----------  -------------------  ----------  \n",
      "12874583  A            2024-11-10 18:15:23  465.93895   \n",
      "12876061  Team K       2024-11-10 18:33:34  512.67258   \n",
      "12870264  B 🏆💎         2024-11-10 19:45:43  518.40991   \n",
      "12849475  R_Diamonds   2024-11-10 17:05:25  520.20433   \n",
      "12862502  F team \"F\"   2024-11-10 06:52:43  521.27358   \n",
      "12862711  🏆💎 L         2024-11-10 20:02:53  524.60073   \n",
      "12865497  J team       2024-11-10 16:54:50  549.82383   \n",
      "12874408  💎D           2024-11-10 18:41:46  551.81804   \n",
      "12854107  Team \"AI\"    2024-11-10 17:58:29  552.49008   \n",
      "12878798  M Team       2024-11-10 11:55:48  558.73498   \n",
      "12866121  Q            2024-11-09 13:58:32  559.59905   \n",
      "12849653  team\"T\"      2024-11-10 17:33:21  559.72476   \n",
      "12872141  Team Y       2024-11-10 19:46:10  561.58907   \n",
      "12850610  W            2024-11-09 16:58:31  568.64596   \n",
      "12849559  H            2024-11-08 10:42:49  576.45786   \n",
      "12859320  🏆💎 AB        2024-11-10 17:51:41  578.88635   \n",
      "12853642  🏆💎 G         2024-11-10 08:47:29  580.94261   \n",
      "12849792  AN team      2024-11-10 19:20:08  590.17542   \n",
      "12880098  AJ team      2024-11-10 19:14:26  593.40333   \n",
      "12853127  Team X       2024-11-08 04:59:19  596.42269   \n",
      "12866823  AC           2024-11-10 19:25:36  597.58692   \n",
      "12870781  AK           2024-11-10 18:44:07  598.13690   \n",
      "12894010  🏆💎 I         2024-11-10 18:19:34  602.23717   \n",
      "12893969  AL Team      2024-11-10 20:09:04  604.38685   \n",
      "12864715  Team V       2024-11-10 20:15:44  605.48535   \n",
      "12851199  Team Z       2024-11-10 20:17:42  608.22264   \n",
      "12869625  🏆💎 P         2024-11-10 19:48:53  610.72084   \n",
      "12849385  AE           2024-11-10 19:57:40  615.83247   \n",
      "12861917  AH_team      2024-11-10 16:53:38  616.50650   \n",
      "12870754  N Team       2024-11-10 19:49:13  618.41569   \n",
      "12888598  S-Team⽓      2024-11-10 20:08:40  647.03082   \n",
      "12875419  🏆💎 E         2024-11-09 12:57:21  674.03976   \n",
      "12881178  Team C       2024-11-10 17:41:27  742.86841   \n",
      "12915412  AD           2024-11-10 19:49:51  780.15596   \n",
      "12901640  K?           2024-11-10 19:56:15  997.00187   \n",
      "12892093  O            2024-11-10 18:21:49  1048.01563  \n",
      "12848731  💎Baseline 🐍  2024-09-11 21:25:51  1070.14434  \n"
     ]
    }
   ],
   "source": [
    "!pip install --upgrade --force-reinstall --no-deps kaggle > log  # upgrade kaggle package (to avoid a warning)\n",
    "!mkdir -p ~/.kaggle                                           # .kaggle folder must contain kaggle.json for kaggle executable to properly authenticate you to Kaggle.com\n",
    "!cp /content/drive/MyDrive/kaggle.json ~/.kaggle/kaggle.json >log  # First, download kaggle.json from kaggle.com (in Account page) and place it in the root of mounted Google Drive\n",
    "# !cp kaggle.json ~/.kaggle/kaggle.json > log                   # Alternative location of kaggle.json (without a connection to Google Drive)\n",
    "!chmod 600 ~/.kaggle/kaggle.json                              # give only the owner full read/write access to kaggle.json\n",
    "!kaggle config set -n competition -v 29oct24hse-diamonds      # set the competition context for the next few kaggle API calls. !kaggle config view - shows current settings\n",
    "!kaggle competitions download >> log                          # download competition dataset as a zip file\n",
    "!unzip -o *.zip >> log                                        # Kaggle dataset is copied as a single file and needs to be unzipped.\n",
    "!kaggle competitions leaderboard --show                       # print public leaderboard"
   ]
  },
  {
   "cell_type": "code",
   "execution_count": null,
   "metadata": {
    "colab": {
     "base_uri": "https://localhost:8080/"
    },
    "id": "7CyC-JlZFga1",
    "outputId": "2ab021bb-8ee0-4e29-d3ba-5d3fda31e3f3"
   },
   "outputs": [
    {
     "name": "stdout",
     "output_type": "stream",
     "text": [
      "CPU times: user 2.87 s, sys: 293 ms, total: 3.16 s\n",
      "Wall time: 5.39 s\n"
     ]
    }
   ],
   "source": [
    "%%time\n",
    "%%capture\n",
    "%reset -f\n",
    "from IPython.core.interactiveshell import InteractiveShell as IS; IS.ast_node_interactivity = \"all\"\n",
    "import numpy as np, pandas as pd, time, matplotlib.pyplot as plt, seaborn as sns, os, tqdm, re, sys, cv2, skimage\n",
    "ToCSV = lambda df, fname: df.round(2).to_csv(f'{fname}.csv', index_label='id') # rounds values to 2 decimals\n",
    "os.environ['TF_DETERMINISTIC_OPS'] = '1'; os.environ['TF_CUDNN_DETERMINISTIC'] = '1'; # allows seeding RNG on GPU\n",
    "\n",
    "class Timer():\n",
    "  def __init__(self, lim:'RunTimeLimit'=60): self.t0, self.lim, _ = time.time(), lim, print(f'⏳ started. You have {lim} sec. Good luck!')\n",
    "  def ShowTime(self):\n",
    "    msg = f'Runtime is {time.time()-self.t0:.0f} sec'\n",
    "    print(f'\\033[91m\\033[1m' + msg + f' > {self.lim} sec limit!!!\\033[0m' if (time.time()-self.t0-1) > self.lim else msg)\n",
    "\n",
    "np.set_printoptions(linewidth=100, precision=2, edgeitems=2, suppress=True)\n",
    "pd.set_option('display.max_columns', 20, 'display.precision', 2, 'display.max_rows', 4)\n",
    "tDIR, sDIR = 'trainXY/', 'testY/'"
   ]
  },
  {
   "cell_type": "code",
   "execution_count": null,
   "metadata": {
    "colab": {
     "base_uri": "https://localhost:8080/",
     "height": 235
    },
    "id": "X00bQLb5FpxU",
    "outputId": "b54a8b44-3c83-49d8-b6be-25f4727424d4"
   },
   "outputs": [
    {
     "data": {
      "application/vnd.google.colaboratory.intrinsic+json": {
       "type": "dataframe",
       "variable_name": "df"
      },
      "text/html": [
       "\n",
       "  <div id=\"df-6bded8c2-626a-4b7c-9003-0301e216c601\" class=\"colab-df-container\">\n",
       "    <div>\n",
       "<style scoped>\n",
       "    .dataframe tbody tr th:only-of-type {\n",
       "        vertical-align: middle;\n",
       "    }\n",
       "\n",
       "    .dataframe tbody tr th {\n",
       "        vertical-align: top;\n",
       "    }\n",
       "\n",
       "    .dataframe thead th {\n",
       "        text-align: right;\n",
       "    }\n",
       "</style>\n",
       "<table border=\"1\" class=\"dataframe\">\n",
       "  <thead>\n",
       "    <tr style=\"text-align: right;\">\n",
       "      <th></th>\n",
       "      <th>carat</th>\n",
       "      <th>depth</th>\n",
       "      <th>table</th>\n",
       "      <th>x</th>\n",
       "      <th>y</th>\n",
       "      <th>z</th>\n",
       "      <th>cut</th>\n",
       "      <th>color</th>\n",
       "      <th>clarity</th>\n",
       "      <th>price</th>\n",
       "    </tr>\n",
       "  </thead>\n",
       "  <tbody>\n",
       "    <tr>\n",
       "      <th>0</th>\n",
       "      <td>0.35</td>\n",
       "      <td>67.2</td>\n",
       "      <td>57.1</td>\n",
       "      <td>4.64</td>\n",
       "      <td>4.69</td>\n",
       "      <td>2.87</td>\n",
       "      <td>I</td>\n",
       "      <td>G</td>\n",
       "      <td>VS1</td>\n",
       "      <td>NaN</td>\n",
       "    </tr>\n",
       "    <tr>\n",
       "      <th>1</th>\n",
       "      <td>1.64</td>\n",
       "      <td>67.3</td>\n",
       "      <td>60.7</td>\n",
       "      <td>7.84</td>\n",
       "      <td>7.82</td>\n",
       "      <td>4.94</td>\n",
       "      <td>V</td>\n",
       "      <td>E</td>\n",
       "      <td>SI1</td>\n",
       "      <td>NaN</td>\n",
       "    </tr>\n",
       "    <tr>\n",
       "      <th>...</th>\n",
       "      <td>...</td>\n",
       "      <td>...</td>\n",
       "      <td>...</td>\n",
       "      <td>...</td>\n",
       "      <td>...</td>\n",
       "      <td>...</td>\n",
       "      <td>...</td>\n",
       "      <td>...</td>\n",
       "      <td>...</td>\n",
       "      <td>...</td>\n",
       "    </tr>\n",
       "    <tr>\n",
       "      <th>199998</th>\n",
       "      <td>0.48</td>\n",
       "      <td>68.7</td>\n",
       "      <td>53.0</td>\n",
       "      <td>4.47</td>\n",
       "      <td>4.45</td>\n",
       "      <td>2.72</td>\n",
       "      <td>I</td>\n",
       "      <td>G</td>\n",
       "      <td>IF</td>\n",
       "      <td>1474.0</td>\n",
       "    </tr>\n",
       "    <tr>\n",
       "      <th>199999</th>\n",
       "      <td>0.48</td>\n",
       "      <td>65.0</td>\n",
       "      <td>64.7</td>\n",
       "      <td>5.60</td>\n",
       "      <td>5.62</td>\n",
       "      <td>3.44</td>\n",
       "      <td>I</td>\n",
       "      <td>H</td>\n",
       "      <td>VS2</td>\n",
       "      <td>765.0</td>\n",
       "    </tr>\n",
       "  </tbody>\n",
       "</table>\n",
       "<p>200000 rows × 10 columns</p>\n",
       "</div>\n",
       "    <div class=\"colab-df-buttons\">\n",
       "\n",
       "  <div class=\"colab-df-container\">\n",
       "    <button class=\"colab-df-convert\" onclick=\"convertToInteractive('df-6bded8c2-626a-4b7c-9003-0301e216c601')\"\n",
       "            title=\"Convert this dataframe to an interactive table.\"\n",
       "            style=\"display:none;\">\n",
       "\n",
       "  <svg xmlns=\"http://www.w3.org/2000/svg\" height=\"24px\" viewBox=\"0 -960 960 960\">\n",
       "    <path d=\"M120-120v-720h720v720H120Zm60-500h600v-160H180v160Zm220 220h160v-160H400v160Zm0 220h160v-160H400v160ZM180-400h160v-160H180v160Zm440 0h160v-160H620v160ZM180-180h160v-160H180v160Zm440 0h160v-160H620v160Z\"/>\n",
       "  </svg>\n",
       "    </button>\n",
       "\n",
       "  <style>\n",
       "    .colab-df-container {\n",
       "      display:flex;\n",
       "      gap: 12px;\n",
       "    }\n",
       "\n",
       "    .colab-df-convert {\n",
       "      background-color: #E8F0FE;\n",
       "      border: none;\n",
       "      border-radius: 50%;\n",
       "      cursor: pointer;\n",
       "      display: none;\n",
       "      fill: #1967D2;\n",
       "      height: 32px;\n",
       "      padding: 0 0 0 0;\n",
       "      width: 32px;\n",
       "    }\n",
       "\n",
       "    .colab-df-convert:hover {\n",
       "      background-color: #E2EBFA;\n",
       "      box-shadow: 0px 1px 2px rgba(60, 64, 67, 0.3), 0px 1px 3px 1px rgba(60, 64, 67, 0.15);\n",
       "      fill: #174EA6;\n",
       "    }\n",
       "\n",
       "    .colab-df-buttons div {\n",
       "      margin-bottom: 4px;\n",
       "    }\n",
       "\n",
       "    [theme=dark] .colab-df-convert {\n",
       "      background-color: #3B4455;\n",
       "      fill: #D2E3FC;\n",
       "    }\n",
       "\n",
       "    [theme=dark] .colab-df-convert:hover {\n",
       "      background-color: #434B5C;\n",
       "      box-shadow: 0px 1px 3px 1px rgba(0, 0, 0, 0.15);\n",
       "      filter: drop-shadow(0px 1px 2px rgba(0, 0, 0, 0.3));\n",
       "      fill: #FFFFFF;\n",
       "    }\n",
       "  </style>\n",
       "\n",
       "    <script>\n",
       "      const buttonEl =\n",
       "        document.querySelector('#df-6bded8c2-626a-4b7c-9003-0301e216c601 button.colab-df-convert');\n",
       "      buttonEl.style.display =\n",
       "        google.colab.kernel.accessAllowed ? 'block' : 'none';\n",
       "\n",
       "      async function convertToInteractive(key) {\n",
       "        const element = document.querySelector('#df-6bded8c2-626a-4b7c-9003-0301e216c601');\n",
       "        const dataTable =\n",
       "          await google.colab.kernel.invokeFunction('convertToInteractive',\n",
       "                                                    [key], {});\n",
       "        if (!dataTable) return;\n",
       "\n",
       "        const docLinkHtml = 'Like what you see? Visit the ' +\n",
       "          '<a target=\"_blank\" href=https://colab.research.google.com/notebooks/data_table.ipynb>data table notebook</a>'\n",
       "          + ' to learn more about interactive tables.';\n",
       "        element.innerHTML = '';\n",
       "        dataTable['output_type'] = 'display_data';\n",
       "        await google.colab.output.renderOutput(dataTable, element);\n",
       "        const docLink = document.createElement('div');\n",
       "        docLink.innerHTML = docLinkHtml;\n",
       "        element.appendChild(docLink);\n",
       "      }\n",
       "    </script>\n",
       "  </div>\n",
       "\n",
       "\n",
       "<div id=\"df-e02a0f17-42ac-4fa8-97bc-5fe1467a9097\">\n",
       "  <button class=\"colab-df-quickchart\" onclick=\"quickchart('df-e02a0f17-42ac-4fa8-97bc-5fe1467a9097')\"\n",
       "            title=\"Suggest charts\"\n",
       "            style=\"display:none;\">\n",
       "\n",
       "<svg xmlns=\"http://www.w3.org/2000/svg\" height=\"24px\"viewBox=\"0 0 24 24\"\n",
       "     width=\"24px\">\n",
       "    <g>\n",
       "        <path d=\"M19 3H5c-1.1 0-2 .9-2 2v14c0 1.1.9 2 2 2h14c1.1 0 2-.9 2-2V5c0-1.1-.9-2-2-2zM9 17H7v-7h2v7zm4 0h-2V7h2v10zm4 0h-2v-4h2v4z\"/>\n",
       "    </g>\n",
       "</svg>\n",
       "  </button>\n",
       "\n",
       "<style>\n",
       "  .colab-df-quickchart {\n",
       "      --bg-color: #E8F0FE;\n",
       "      --fill-color: #1967D2;\n",
       "      --hover-bg-color: #E2EBFA;\n",
       "      --hover-fill-color: #174EA6;\n",
       "      --disabled-fill-color: #AAA;\n",
       "      --disabled-bg-color: #DDD;\n",
       "  }\n",
       "\n",
       "  [theme=dark] .colab-df-quickchart {\n",
       "      --bg-color: #3B4455;\n",
       "      --fill-color: #D2E3FC;\n",
       "      --hover-bg-color: #434B5C;\n",
       "      --hover-fill-color: #FFFFFF;\n",
       "      --disabled-bg-color: #3B4455;\n",
       "      --disabled-fill-color: #666;\n",
       "  }\n",
       "\n",
       "  .colab-df-quickchart {\n",
       "    background-color: var(--bg-color);\n",
       "    border: none;\n",
       "    border-radius: 50%;\n",
       "    cursor: pointer;\n",
       "    display: none;\n",
       "    fill: var(--fill-color);\n",
       "    height: 32px;\n",
       "    padding: 0;\n",
       "    width: 32px;\n",
       "  }\n",
       "\n",
       "  .colab-df-quickchart:hover {\n",
       "    background-color: var(--hover-bg-color);\n",
       "    box-shadow: 0 1px 2px rgba(60, 64, 67, 0.3), 0 1px 3px 1px rgba(60, 64, 67, 0.15);\n",
       "    fill: var(--button-hover-fill-color);\n",
       "  }\n",
       "\n",
       "  .colab-df-quickchart-complete:disabled,\n",
       "  .colab-df-quickchart-complete:disabled:hover {\n",
       "    background-color: var(--disabled-bg-color);\n",
       "    fill: var(--disabled-fill-color);\n",
       "    box-shadow: none;\n",
       "  }\n",
       "\n",
       "  .colab-df-spinner {\n",
       "    border: 2px solid var(--fill-color);\n",
       "    border-color: transparent;\n",
       "    border-bottom-color: var(--fill-color);\n",
       "    animation:\n",
       "      spin 1s steps(1) infinite;\n",
       "  }\n",
       "\n",
       "  @keyframes spin {\n",
       "    0% {\n",
       "      border-color: transparent;\n",
       "      border-bottom-color: var(--fill-color);\n",
       "      border-left-color: var(--fill-color);\n",
       "    }\n",
       "    20% {\n",
       "      border-color: transparent;\n",
       "      border-left-color: var(--fill-color);\n",
       "      border-top-color: var(--fill-color);\n",
       "    }\n",
       "    30% {\n",
       "      border-color: transparent;\n",
       "      border-left-color: var(--fill-color);\n",
       "      border-top-color: var(--fill-color);\n",
       "      border-right-color: var(--fill-color);\n",
       "    }\n",
       "    40% {\n",
       "      border-color: transparent;\n",
       "      border-right-color: var(--fill-color);\n",
       "      border-top-color: var(--fill-color);\n",
       "    }\n",
       "    60% {\n",
       "      border-color: transparent;\n",
       "      border-right-color: var(--fill-color);\n",
       "    }\n",
       "    80% {\n",
       "      border-color: transparent;\n",
       "      border-right-color: var(--fill-color);\n",
       "      border-bottom-color: var(--fill-color);\n",
       "    }\n",
       "    90% {\n",
       "      border-color: transparent;\n",
       "      border-bottom-color: var(--fill-color);\n",
       "    }\n",
       "  }\n",
       "</style>\n",
       "\n",
       "  <script>\n",
       "    async function quickchart(key) {\n",
       "      const quickchartButtonEl =\n",
       "        document.querySelector('#' + key + ' button');\n",
       "      quickchartButtonEl.disabled = true;  // To prevent multiple clicks.\n",
       "      quickchartButtonEl.classList.add('colab-df-spinner');\n",
       "      try {\n",
       "        const charts = await google.colab.kernel.invokeFunction(\n",
       "            'suggestCharts', [key], {});\n",
       "      } catch (error) {\n",
       "        console.error('Error during call to suggestCharts:', error);\n",
       "      }\n",
       "      quickchartButtonEl.classList.remove('colab-df-spinner');\n",
       "      quickchartButtonEl.classList.add('colab-df-quickchart-complete');\n",
       "    }\n",
       "    (() => {\n",
       "      let quickchartButtonEl =\n",
       "        document.querySelector('#df-e02a0f17-42ac-4fa8-97bc-5fe1467a9097 button');\n",
       "      quickchartButtonEl.style.display =\n",
       "        google.colab.kernel.accessAllowed ? 'block' : 'none';\n",
       "    })();\n",
       "  </script>\n",
       "</div>\n",
       "    </div>\n",
       "  </div>\n"
      ],
      "text/plain": [
       "        carat  depth  table     x     y     z cut color clarity   price\n",
       "0        0.35   67.2   57.1  4.64  4.69  2.87   I     G     VS1     NaN\n",
       "1        1.64   67.3   60.7  7.84  7.82  4.94   V     E     SI1     NaN\n",
       "...       ...    ...    ...   ...   ...   ...  ..   ...     ...     ...\n",
       "199998   0.48   68.7   53.0  4.47  4.45  2.72   I     G      IF  1474.0\n",
       "199999   0.48   65.0   64.7  5.60  5.62  3.44   I     H     VS2   765.0\n",
       "\n",
       "[200000 rows x 10 columns]"
      ]
     },
     "execution_count": 5,
     "metadata": {},
     "output_type": "execute_result"
    }
   ],
   "source": [
    "df = pd.read_csv('XY_diamonds.csv'); df"
   ]
  },
  {
   "cell_type": "code",
   "execution_count": null,
   "metadata": {
    "colab": {
     "base_uri": "https://localhost:8080/"
    },
    "id": "fh1X0Ck_v-RM",
    "outputId": "aa74c281-bf55-4b55-b83d-f01ac88c0a50"
   },
   "outputs": [
    {
     "name": "stdout",
     "output_type": "stream",
     "text": [
      "<class 'pandas.core.series.Series'>\n",
      "RangeIndex: 200000 entries, 0 to 199999\n",
      "Series name: price\n",
      "Non-Null Count   Dtype  \n",
      "--------------   -----  \n",
      "160000 non-null  float64\n",
      "dtypes: float64(1)\n",
      "memory usage: 1.5 MB\n"
     ]
    }
   ],
   "source": [
    "  df.price.info()"
   ]
  },
  {
   "cell_type": "code",
   "execution_count": null,
   "metadata": {
    "id": "f7OuVizOFsFF"
   },
   "outputs": [],
   "source": [
    "vX = df.query('price!=price').drop('price', axis=1)  # slice a test sample\n",
    "tXY = df.query('price==price')                       # slice training sample\n",
    "tX, tY = tXY.drop('price', axis=1), tXY.price        # split into training I/O"
   ]
  },
  {
   "cell_type": "code",
   "execution_count": null,
   "metadata": {
    "id": "i4gelET6Hb2A"
   },
   "outputs": [],
   "source": [
    "def ScatterCorrHist(df):\n",
    "  def corrdot(*args, **kwargs):\n",
    "    # credit: https://stackoverflow.com/questions/48139899\n",
    "    corr_r = args[0].corr(args[1], 'pearson')\n",
    "    corr_text = f\"{corr_r:2.2f}\".replace(\"0.\", \".\")\n",
    "    ax = plt.gca();\n",
    "    ax.set_axis_off();\n",
    "    msz = abs(corr_r) * 5000   # marker size\n",
    "    fsz = abs(corr_r) * 40 + 5 # font size\n",
    "    ax.scatter([.5], [.5], msz, [corr_r], alpha=0.5, cmap='coolwarm', vmin=-1, vmax=1, transform=ax.transAxes)\n",
    "    ax.annotate(corr_text, [.5, .5,],  xycoords=\"axes fraction\", ha='center', va='center', fontsize=fsz)\n",
    "\n",
    "  sns.set(style='white', font_scale=.8);\n",
    "  g = sns.PairGrid(df, aspect=1, diag_sharey=False);\n",
    "  g.fig.set_size_inches(20,10)\n",
    "  g.map_lower(sns.regplot, lowess=True, ci=False, line_kws={'color':'red'}, scatter_kws={'s':1});\n",
    "  g.map_diag(sns.histplot, kde_kws={'color':'black'});\n",
    "  g.map_upper(corrdot);\n",
    "  g.fig.suptitle(\"Scatter plot, Correlations and histograms on diagonal\", y=1);\n",
    "  _ = plt.subplots_adjust(hspace=0.02, wspace=0.02);\n",
    "  _ = plt.show();\n",
    "\n",
    "# ScatterCorrHist(tXY.head(200))  # takes a minute time to run"
   ]
  },
  {
   "cell_type": "code",
   "execution_count": null,
   "metadata": {
    "colab": {
     "base_uri": "https://localhost:8080/"
    },
    "id": "z4_C58bbHuja",
    "outputId": "091251cb-5778-424a-a95c-564d5a5af682"
   },
   "outputs": [
    {
     "name": "stdout",
     "output_type": "stream",
     "text": [
      "⏳ started. You have 60 sec. Good luck!\n"
     ]
    }
   ],
   "source": [
    "tmr = Timer()"
   ]
  },
  {
   "cell_type": "markdown",
   "metadata": {
    "id": "3NcTKbw3KhAn"
   },
   "source": [
    "<hr color=green size=40>\n",
    "\n",
    "<strong><font color=green size=5>⏳Timed Green Playground (TGP): Your ideas, code, documentation, and timer START HERE!</font></strong>\n",
    "\n",
    "<font color=green>Students: Keep all your definitions, code, documentation in <b>TGP</b>. Modifying any code outside of TGP incurs penalties."
   ]
  },
  {
   "cell_type": "markdown",
   "metadata": {
    "id": "gYhrWAHHuKOt"
   },
   "source": [
    "## Импорт библиотек"
   ]
  },
  {
   "cell_type": "code",
   "execution_count": null,
   "metadata": {
    "id": "mwjm7Ao4DkUR"
   },
   "outputs": [],
   "source": [
    "from sklearn.cluster import MiniBatchKMeans\n",
    "from sklearn.linear_model import Ridge\n",
    "from sklearn.preprocessing import PolynomialFeatures, StandardScaler\n",
    "from sklearn.model_selection import train_test_split, GridSearchCV\n",
    "import pandas as pd\n",
    "import numpy as np"
   ]
  },
  {
   "cell_type": "markdown",
   "metadata": {
    "id": "07aKZhAoDlYH"
   },
   "source": [
    "# Предобработка данных"
   ]
  },
  {
   "cell_type": "markdown",
   "metadata": {
    "id": "UJ8P9DREDojs"
   },
   "source": [
    "## Заполнение пропусков и нулевых значений"
   ]
  },
  {
   "cell_type": "code",
   "execution_count": null,
   "metadata": {
    "id": "kWBXD3TQDnNj"
   },
   "outputs": [],
   "source": [
    "df = pd.read_csv('XY_diamonds.csv')\n",
    "\n",
    "# Замена нулевых значений z на основе данных о глубине бриллианта\n",
    "df.loc[(df['z'] == 0) & (df['x'] > 0) & (df['y'] > 0), 'z'] = (df['depth'] * (df['x'] + df['y'])) / 2\n",
    "\n",
    "# Замена нулевых значений x, y, z на основе данных по группам по округленным значениям признаков carat и depth\n",
    "df['carat_round'] = df['carat'].round(1)\n",
    "df['depth_round'] = df['depth'].round(0)\n",
    "group_means = df.groupby(['depth_round', 'carat_round'])[['x', 'y', 'z']].mean().reset_index()\n",
    "df = pd.merge(df, group_means, on=['depth_round', 'carat_round'], how='left', suffixes=('', '_mean'))\n",
    "df.loc[(df['x'] == 0) | (df['y'] == 0) | (df['z'] == 0), 'x'] = df['x_mean'].round(3)\n",
    "df.loc[(df['x'] == 0) | (df['y'] == 0) | (df['z'] == 0), 'y'] = df['y_mean'].round(3)\n",
    "df.loc[(df['x'] == 0) | (df['y'] == 0) | (df['z'] == 0), 'z'] = df['z_mean'].round(3)"
   ]
  },
  {
   "cell_type": "markdown",
   "metadata": {
    "id": "QWPd--UfDv8O"
   },
   "source": [
    "## Кодирование категориальных признаков"
   ]
  },
  {
   "cell_type": "code",
   "execution_count": null,
   "metadata": {
    "id": "YGUdyaDdDwtx"
   },
   "outputs": [],
   "source": [
    "def code(df):\n",
    "    cut = {\"F\": 1, \"G\": 2, \"V\": 3, \"P\": 4, \"I\": 5}\n",
    "    clarity = {\"I1\": 1, \"SI2\": 2, \"SI1\": 3, \"VS2\": 4, \"VS1\": 5, \"VVS2\": 6, \"VVS1\": 7, \"IF\": 8}\n",
    "    color = {\"J\": 1, \"I\": 2, \"H\": 3, \"G\": 4, \"F\": 5, \"E\": 6, \"D\": 7}\n",
    "    df['cut'] = df['cut'].map(cut)\n",
    "    df['clarity'] = df['clarity'].map(clarity)\n",
    "    df['color'] = df['color'].map(color)\n",
    "    return df\n",
    "\n",
    "df = code(df)"
   ]
  },
  {
   "cell_type": "markdown",
   "metadata": {
    "id": "RgRe-LdRD0n1"
   },
   "source": [
    "## Создание новых признаков"
   ]
  },
  {
   "cell_type": "code",
   "execution_count": null,
   "metadata": {
    "id": "V5Ts7EeXD22d"
   },
   "outputs": [],
   "source": [
    "def new_features(df):\n",
    "    df['volume'] = df['x'] * df['y'] * df['z']\n",
    "    df['surf_area'] = df['x'] * df['y']\n",
    "    return df\n",
    "\n",
    "df = new_features(df)"
   ]
  },
  {
   "cell_type": "markdown",
   "metadata": {
    "id": "Aj2svfAtD4N2"
   },
   "source": [
    "## Логарифмическое преобразование некоторых признаков  "
   ]
  },
  {
   "cell_type": "code",
   "execution_count": null,
   "metadata": {
    "id": "9LRF5qU6D6fq"
   },
   "outputs": [],
   "source": [
    "def non_linear_feats(df):\n",
    "    non_linear_feat = ['carat', 'x', 'y', 'z']\n",
    "    df[non_linear_feat] = np.log1p(df[non_linear_feat])\n",
    "    return df\n",
    "\n",
    "df = non_linear_feats(df)"
   ]
  },
  {
   "cell_type": "markdown",
   "metadata": {
    "id": "WmkJBAxHD7ts"
   },
   "source": [
    "## Создание полиномиальных признаков"
   ]
  },
  {
   "cell_type": "code",
   "execution_count": null,
   "metadata": {
    "id": "n3pRP_AqD9r0"
   },
   "outputs": [],
   "source": [
    "def create_poly_feats(df):\n",
    "    y = df['price']\n",
    "    X = df.drop(columns=['price', 'x_mean', 'y_mean', 'z_mean'])\n",
    "    poly = PolynomialFeatures(degree=3, include_bias=False)\n",
    "    X_poly = poly.fit_transform(X)\n",
    "    features = poly.get_feature_names_out(input_features=X.columns)\n",
    "    X = pd.DataFrame(X_poly, columns=features)\n",
    "    df = pd.concat([X, y.reset_index(drop=True)], axis=1)\n",
    "    return df\n",
    "\n",
    "df = create_poly_feats(df)"
   ]
  },
  {
   "cell_type": "markdown",
   "metadata": {
    "id": "aAwocfRID-4t"
   },
   "source": [
    "## Масштабирование признаков с помощью StandardScaler"
   ]
  },
  {
   "cell_type": "code",
   "execution_count": null,
   "metadata": {
    "id": "r8z8sdsNEAKy"
   },
   "outputs": [],
   "source": [
    "def scale(df):\n",
    "    scaler = StandardScaler()\n",
    "    X_scaled = scaler.fit_transform(df.drop(columns=['price']))\n",
    "    feature_names = df.drop(columns=['price']).columns\n",
    "    X = pd.DataFrame(X_scaled, columns=feature_names)\n",
    "    df = pd.concat([X, df['price'].reset_index(drop=True)], axis=1)\n",
    "    return df\n",
    "\n",
    "df = scale(df)"
   ]
  },
  {
   "cell_type": "markdown",
   "metadata": {
    "id": "-Qd3ZgvNEB2s"
   },
   "source": [
    "# Обучение модели"
   ]
  },
  {
   "cell_type": "markdown",
   "metadata": {
    "id": "i06lmt5pEEjC"
   },
   "source": [
    "## Выбор количества кластеров"
   ]
  },
  {
   "cell_type": "code",
   "execution_count": null,
   "metadata": {
    "collapsed": true,
    "id": "JkdTLuQ6EFZT"
   },
   "outputs": [],
   "source": [
    "# Выполнить только 1 раз, так как очень долго выполняется и сказывается на финальном времени в TGP.\n",
    "\n",
    "# total = list(range(1, 51))\n",
    "# sse = []\n",
    "\n",
    "# for i in total:\n",
    "#     kmeans = MiniBatchKMeans(n_clusters=i, random_state=0, batch_size=100)\n",
    "#     kmeans.fit(df.drop(columns=['price']))\n",
    "#     sse.append(kmeans.inertia_)\n",
    "\n",
    "# plt.plot(total, sse, marker='o')\n",
    "# plt.xlabel('Количество кластеров')\n",
    "# plt.ylabel('SSE')\n",
    "# plt.title('Метод локтя')\n",
    "\n",
    "# # выбранное количество кластеров - 20"
   ]
  },
  {
   "cell_type": "markdown",
   "metadata": {
    "id": "gtUwvnWaYzZ3"
   },
   "source": [
    "![image.png](data:image/png;base64,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)"
   ]
  },
  {
   "cell_type": "markdown",
   "metadata": {
    "id": "gK2zO9_MEHwv"
   },
   "source": [
    "## Обучение модели"
   ]
  },
  {
   "cell_type": "code",
   "execution_count": null,
   "metadata": {
    "id": "_yQw7kjij1VY"
   },
   "outputs": [],
   "source": [
    "def train_models(df, num_clusters=20):\n",
    "    train = df.query('price == price').copy()\n",
    "    train_X, train_Y = train.drop('price', axis=1), train['price']\n",
    "\n",
    "    X_train, X_test, y_train, y_test = train_test_split(train_X, train_Y, test_size=0.2, random_state=32)\n",
    "\n",
    "    # Кластеризация\n",
    "    kmeans = MiniBatchKMeans(n_clusters=num_clusters, random_state=0, batch_size=100)\n",
    "    train_clusters = kmeans.fit_predict(X_train)\n",
    "    test_clusters = kmeans.predict(X_test)\n",
    "\n",
    "    # Настройка гиперпараметров\n",
    "    params = {'alpha': [0.00001, 0.0001, 0.001, 0.01, 0.1, 1, 5, 10]}\n",
    "    models = {}\n",
    "    params_list = []\n",
    "    for i in range(num_clusters):\n",
    "        cluster_X = X_train[train_clusters == i]\n",
    "        cluster_Y = y_train[train_clusters == i]\n",
    "\n",
    "        ridge = Ridge()\n",
    "\n",
    "        search = GridSearchCV(ridge, params, scoring='neg_mean_absolute_error', cv=10, n_jobs=-1)\n",
    "        search.fit(cluster_X, cluster_Y)\n",
    "\n",
    "        best = search.best_estimator_\n",
    "        params_list.append(best.coef_[0])\n",
    "\n",
    "        models[i] = best\n",
    "\n",
    "    y_pred_test = np.zeros(len(X_test))\n",
    "    for i in range(num_clusters):\n",
    "        cluster_ind = np.where(test_clusters == i)[0]\n",
    "        if len(cluster_ind) > 0:\n",
    "            cluster_X = X_test.iloc[cluster_ind]\n",
    "            y_pred_test[cluster_ind] = models[i].predict(cluster_X)\n",
    "\n",
    "    return models, y_pred_test, kmeans\n",
    "\n",
    "models, y_pred_test, kmeans = train_models(df)"
   ]
  },
  {
   "cell_type": "code",
   "execution_count": null,
   "metadata": {
    "id": "N8BntinkTxI8"
   },
   "outputs": [],
   "source": [
    "def predictions(df, models, kmeans, n_clusters=20):\n",
    "    predict_df = df.query('price != price').copy()\n",
    "    predict_X = predict_df.drop('price', axis=1)\n",
    "    predict_clusters = kmeans.predict(predict_X)\n",
    "    y_pred_all = np.zeros(len(predict_X))\n",
    "    for i in range(n_clusters):\n",
    "        cluster_indices = np.where(predict_clusters == i)[0]\n",
    "        if len(cluster_indices) > 0:\n",
    "            cluster_X = predict_X.iloc[cluster_indices]\n",
    "            y_pred_all[cluster_indices] = models[i].predict(cluster_X)\n",
    "\n",
    "    y_pred_all = np.clip(y_pred_all, a_min=0, a_max=None)\n",
    "\n",
    "    return y_pred_all.flatten()\n",
    "\n",
    "preds = predictions(df, models, kmeans)\n",
    "predict_ids = df[df['price'].isna()].index + 1\n",
    "res = pd.DataFrame({\n",
    "    'id': predict_ids,\n",
    "    'price': preds\n",
    "})\n",
    "res.to_csv('result.csv', index=False)"
   ]
  },
  {
   "cell_type": "markdown",
   "metadata": {
    "id": "aMVDxm-kEJis"
   },
   "source": [
    "<font color=green><h3><b>$\\epsilon$. Documentation</b></h3></font>"
   ]
  },
  {
   "cell_type": "markdown",
   "metadata": {
    "id": "OtOV3RVcwHAD"
   },
   "source": [
    "<font color=green><h4><b>Task 1. Explain Decisions in Preprocessing Pipeline</b></h4></font>\n",
    "\n",
    "<font color=green>\n",
    "Explain elements of your preprocessing pipeline i.e. feature engineering, subsampling, clustering, dimensionality reduction, etc.</font>\n",
    "\n",
    "<font color=green>\n",
    "\n",
    "1. Why did you choose these elements? (Something in EDA, prior experience,...? Note: EDA is not required)\n",
    "1. How do you evaluate the effectiveness of these elements?\n",
    "1. What else have you tried that worked or didn't?\n",
    "\n",
    "</font>"
   ]
  },
  {
   "cell_type": "markdown",
   "metadata": {
    "id": "fOsjQucluIrH"
   },
   "source": [
    "Для работы в Google Collab использовали аппаратный ускоритель TPU v2-8, так как он обеспечивал лучшую скорость исполнения кода. Финальное тестирование кода осуществляли на стандартном ускорителе, так как закончился лимит по использованию TPU v2-8.\n",
    "\n",
    "Если возникнут какие-либо технические проблемы, просим написать в tg - @wearyhead\n",
    "\n",
    "\n",
    "\n"
   ]
  },
  {
   "cell_type": "markdown",
   "metadata": {
    "id": "yytrx-tlwd72"
   },
   "source": [
    "# Предобработка данных"
   ]
  },
  {
   "cell_type": "markdown",
   "metadata": {
    "id": "UzaTYlk4vG4N"
   },
   "source": [
    "## Заполнение пропусков и нулевых значений"
   ]
  },
  {
   "cell_type": "markdown",
   "metadata": {
    "id": "0OJBZlwRwjlZ"
   },
   "source": [
    "В рамках разведочного анализа данных были выявлены нереалистичные значения в полях, описывающих размер камней: x, y, z. Данные аномалии можно разделить на две части:\n",
    "- Недостает 2 или 3 значений\n",
    "- Недостает только 1 значения (такие случаи связаны исключительно с атрибутом z)\n",
    "\n",
    "Чтобы избавиться от данной проблемы мы производим следующие действия:\n",
    "- Сперва устраняем пустоты, основываясь на том, что атрибут depth рассчитывается на базе всех трех атрибутов и его формула нам известна ($\\text{depth} = \\frac{z}{\\text{mean}(x, y)} = \\frac{2 \\cdot z}{x + y}$): выводим формулу z и рассчитываем значения атрибутов для объекта\n",
    "- Устраняем пустоты основываясь на атрибутах carat и depth, которые отражают вес и размер камня: для каждой каратности и глубины (предварительно сгруппировав, уменьшив точность значений) рассчитываем средние величины камней, у которых они известны."
   ]
  },
  {
   "cell_type": "markdown",
   "metadata": {
    "id": "pRwfJnHEyZYj"
   },
   "source": [
    "## Кодирование категориальных признаков"
   ]
  },
  {
   "cell_type": "markdown",
   "metadata": {
    "id": "R_kyJ0ulybzz"
   },
   "source": [
    "Так как модели линейных регрессий работают с числовыми атрибутами, мы перевели категориальные признаки в набор упорядоченных чисел (выполнили кодирование категориальных признаков):\n",
    "- Cut (Fair = 1, Good = 2, Very Good = 3, Premium = 4, Ideal = 5);\n",
    "- Clarity (I1 (worst) = 1, SI2 = 2, SI1 = 3, VS2 = 4, VS1 = 5, VVS2 = 6, VVS1 = 7, IF (best) = 8);\n",
    "- Color (J = 1, I = 2, H = 3, G = 4, F = 5, E = 6, D = 7).\n",
    "\n",
    "\n",
    "![Alt Text](https://avatars.mds.yandex.net/i?id=0e07f33df93f89c522f11916aa80a0ff_l-5132176-images-thumbs&n=13)\n"
   ]
  },
  {
   "cell_type": "markdown",
   "metadata": {
    "id": "r_ZTr_iE2lsE"
   },
   "source": [
    "## Создание новых признаков\n"
   ]
  },
  {
   "cell_type": "markdown",
   "metadata": {
    "id": "B_yYlfyu2mh6"
   },
   "source": [
    "На основе имеющихся признаков x, y, z создали новые признаки - объем алмаза (volume) и признак произведения ширины и длины (surf_area).\n",
    "Данные признаки позволили модели уловить дополнительные детали о размере и форме алмаза, что положительно сказалось на метрике МАЕ.\n",
    "\n",
    "P.S. пробовали создавать множество других признаков, но они перегружали модель. Оставили только самые значимые признаки.\n"
   ]
  },
  {
   "cell_type": "markdown",
   "metadata": {
    "id": "ayM8HgOT3PKY"
   },
   "source": [
    "## Логарифмическое преобразование некоторых признаков"
   ]
  },
  {
   "cell_type": "markdown",
   "metadata": {
    "id": "kohUMU4q3QoO"
   },
   "source": [
    "Посмотрели графики распределения всех имеющихся признаков. Отобрали признаки, которые смещены влево и не имеют нормальное распределение - carat, x, y, z. Выполнили логарифмическое преобразование этих признаков для нормализации распределений."
   ]
  },
  {
   "cell_type": "markdown",
   "metadata": {
    "id": "ZaA6Pi3Q39g7"
   },
   "source": [
    "## Создание полиномиальных признаков"
   ]
  },
  {
   "cell_type": "markdown",
   "metadata": {
    "id": "_4p2nsY23_O0"
   },
   "source": [
    "Для того, чтобы учесть нелинейные взаимосвязи между признаками создали полиномиальные признаки. Путем итеративного подхода выбрали степень полинома = 3, что позволило добавить модели сложность, но при этом не перегрузить модель."
   ]
  },
  {
   "cell_type": "markdown",
   "metadata": {
    "id": "YwvNdwmw4rkv"
   },
   "source": []
  },
  {
   "cell_type": "markdown",
   "metadata": {
    "id": "k5k_hQ0c4Zqu"
   },
   "source": [
    "## Выбор количества кластеров"
   ]
  },
  {
   "cell_type": "markdown",
   "metadata": {
    "id": "Iu8u6HI_4Zoh"
   },
   "source": [
    "C помощью метода локтя выбрали оптимальное количество кластеров = 20."
   ]
  },
  {
   "cell_type": "markdown",
   "metadata": {
    "id": "PtcPHOP44Zgw"
   },
   "source": [
    "В целях оптимизации скорости обучения и точности вывода модели определяли важность признаков и отбрасывали наиболее неважные, это ускорило обучение, но слегка понизило точность предсказаний.\n"
   ]
  },
  {
   "cell_type": "markdown",
   "metadata": {
    "id": "ppwkSmoEwHAD"
   },
   "source": [
    "<font color=green><h4><b>Task 2. Explain Decisions in Modeling Pipeline</b></h4></font>\n",
    "\n",
    "<font color=green>\n",
    "Explain your modeling approach, i.e. ideas you tried and why you thought they would be helpful.\n",
    "\n",
    "1. How did these decisions guide you in modeling?\n",
    "1. How do you evaluate the effectiveness of these elements?\n",
    "1. What else have you tried that worked or didn't?\n",
    "\n",
    "</font>"
   ]
  },
  {
   "cell_type": "markdown",
   "metadata": {
    "id": "uoMgJY3JNmDj"
   },
   "source": [
    "# Обучение модели"
   ]
  },
  {
   "cell_type": "markdown",
   "metadata": {
    "id": "wF4iQkNKNyep"
   },
   "source": [
    "## Обучение модели для каждого кластера\n"
   ]
  },
  {
   "cell_type": "markdown",
   "metadata": {
    "id": "B4JpFPy1N2hz"
   },
   "source": [
    "- Выполнили фильтрацию данных, чтобы оставить только строки с известной ценой (price), поскольку только на этих данных можно обучать модель.\n",
    "- Разделили данные на признаки и целевую переменную: выделили все столбцы, кроме price, в train_X и сами цены в train_Y.\n",
    "- Разбили данные на обучающую и тестовую выборки с помощью train_test_split, чтобы оценивать модель на тестовых данных и проверять её точность на ранее не виденных данных.  \n",
    "- Выполнили кластеризацию с MiniBatchKMeans на обучающей выборке, чтобы разбить данные на группы (кластеры), в которых объекты будут более похожи друг на друга. Для кластеризации использовали алгоритм KMeans и MiniBatchKMeans. MiniBatchKMeans показал наилучший результат по скорости выполнения кода, поэтому выбрали MiniBatchKMeans.\n",
    "- Выбрали диапазоны для альфы для нашей модели Ridge с использованием GridSearchCV для поиска оптимального значения альфа.\n",
    "- Создали и обучили модель Ridge для каждого кластера, при этом:\n",
    "  - выбрали необходимые данные из обучающей выборки, относящиеся к текущему кластеру.\n",
    "  - применили GridSearchCV, чтобы подобрать наилучшее значение альфы для каждого кластера.\n",
    "  - и сохранили полученную на шаге 2 модель с оптимальной альфой для каждого кластера в словарь models."
   ]
  },
  {
   "cell_type": "markdown",
   "metadata": {
    "id": "83ud2eD7N6fb"
   },
   "source": [
    "Подбирали гиперпараметры для Ridge, но остановились на подборе только альфы, так как подбор других гиперпараметров очень сильно замедлял обучение модели.\n",
    "\n",
    "Помимо модели Ridge пробовали другие линейные модели, такие как: Lasso, ElasticNet, Classic Linear Regression, но данные модели показали меньшую точность предсказания, поэтому остановили свой выбор на Ridge.\n",
    "\n",
    "Вместо StandardScaler пробовали применять MinMaxScaler и Normalizer, но StandardScaler показал лучшую скорость и точность.\n",
    "\n"
   ]
  },
  {
   "cell_type": "markdown",
   "metadata": {
    "id": "pzBsjCvS_kEw"
   },
   "source": [
    "<font color=green><h3><b>$\\zeta$. References</b></h3></font>"
   ]
  },
  {
   "cell_type": "markdown",
   "metadata": {
    "id": "2kr8Q-9T_nAb"
   },
   "source": [
    "<font color=green>\n",
    "Cite your sources to help your peers learn from these (and to avoid plagiarism claims). At the least, ISLP textbook should be cited. Use Google Scholar to draw APA citation format for books and publications. Also cite StackOverflow, package documentation, and other meaningful internet resources.\n",
    "\n",
    "1. [MiniBatchKMeans](https://scikit-learn.org/stable/modules/generated/sklearn.cluster.MiniBatchKMeans.html)\n",
    "2. [Ridge](https://scikit-learn.org/stable/modules/generated/sklearn.linear_model.Ridge.html)\n",
    "3. [PolynomialFeatures](https://scikit-learn.org/stable/modules/generated/sklearn.preprocessing.PolynomialFeatures.html)\n",
    "4. [GridSearchCV](https://scikit-learn.org/stable/modules/generated/sklearn.model_selection.GridSearchCV.html)\n",
    "5. Использование PolynomialFeatures (страница 90 ISLR)\n",
    "> \"As discussed previously, the linear regression model (3.19) assumes a linear\n",
    " relationship between the response and predictors. But in some cases, the\n",
    " true relationship between the response and the predictors may be non\n",
    "linear. Here we present a very simple way to directly extend the linear model\n",
    " to accommodate non-linear relationships, using polynomial regression.\"\n",
    "\n",
    "6. Замена отсутствующих значений ([Статья \"Предварительная обработка данных для машинного обучения\"](https://science-engineering.ru/ru/article/view?id=1391))\n",
    "> \"Методы интерполяции пропущенных значений для построения данных.\n",
    "К первым относятся средняя интерполяция, прямая или обратная интерполяция и методы скользящего среднего. В этом случае недостающие значения выводятся на основе характеристик данных только одной переменной и поэтому называются одномерными методами. Метод интерполяции среднего или медианы заменяет недостающие значения средним или медианой этой переменной. Прямой или обратный метод просто заменяет отсутствующее значение предыдущим или следующим измерением данных. Эти два метода просты в реализации, но не учитывают временные корреляции на временных этапах и могут не сделать правильную замену данных.\"\n",
    "\n",
    "7. Применение логарифмической трансформации ([Статья \"Введение в Feature Engineering для начинающих дата-сайентистов и ML-инженеров\"](https://habr.com/ru/companies/skillfactory/articles/842444/))\n",
    "> Логарифмическая трансформация: применяется для признаков с сильно скошенным распределением, где существует длинный хвост справа (например, доходы, цены), чтобы сделать данные более симметричными.\n",
    "\n",
    "8. Использование Mini-batch K-means ([Яндекс хэндбук - Кластеризация](https://education.yandex.ru/handbook/ml/article/klasterizaciya))\n",
    "> Несложно заметить, что, если считать K и размерность пространства признаков константами, оба шага алгоритма работают за O(n), где n — количество объектов обучающей выборки. Отсюда возникает идея ускорения работы алгоритма. В mini-batch K-means мы не считаем шаги сразу на всей выборке, а на каждой итерации выбираем случайную подвыборку (мини-батч) и работаем на ней. В случае когда исходная выборка очень велика, переход к пакетной обработке не приводит к большой потере качества, зато значительно ускоряет работу алгоритма.\n",
    "\n",
    "9. Подбор гиперпараметров с помощью GridSearchCV ([Статья \"Введение в Feature Engineering для начинающих дата-сайентистов и ML-инженеров\"](https://habr.com/ru/companies/skillfactory/articles/842444/))\n",
    "> Один из наиболее распространенных способов настройки гиперпараметров — это решетчатый подход. Этот метод предполагает задание наборов значений для каждого гиперпараметра, которые затем \"перебираются\" систематически для нахождения наилучшей комбинации. Для каждой комбинации гиперпараметров производится обучение модели и оценка её производительности на валидационных данных.\n",
    "\n",
    "10. Использование StandardScaler ([Статья про преобразование данных](https://www.dmitrymakarov.ru/data-analysis/transform-08/))\n",
    "> Если данные следуют нормальному или близкому к нормальному распределению (что желательно для многих моделей ML), имеет смысл прибегнуть к стандартизации (standartazation): то есть приведению к нулевому среднему значению и единичному СКО (так называемое стандартное нормальное распределение).\n",
    "\n",
    "\n",
    "\n",
    "\n",
    "\n",
    "\n",
    "\n",
    "\n",
    "\n",
    "\n"
   ]
  },
  {
   "cell_type": "markdown",
   "metadata": {
    "id": "rK8Q1uCq2MPr"
   },
   "source": [
    "## Выводы"
   ]
  },
  {
   "cell_type": "markdown",
   "metadata": {
    "id": "tTQ6jTOj2KDO"
   },
   "source": [
    "С помощью линейной регрессии с подобранными гиперпараметрами и предварительной кластеризацией кристаллов удалось снизить значение MAE до 558.47 на тестовых данных\n",
    "\n",
    "Из того, что можно было бы улучшить:\n",
    "1. подобрать гиперпараметры для моделей регрессии помимо значения alpha, такие как: solver и tol\n",
    "2. разобраться, в чем причина высокого значения МАЕ на некоторых кластерах и сделать корректировку\n",
    "3. попробовать использовать модели на основе решающих деревьев, такие, как, например, случайные леса и бустинг"
   ]
  },
  {
   "cell_type": "markdown",
   "metadata": {
    "id": "DoF2GoB_QGw9"
   },
   "source": [
    "<font size=5>⌛</font> <strong><font color=green size=5>Do not exceed competition's runtime limit! Do not write code outside TGP</font></strong>\n",
    "<hr color=green size=40>"
   ]
  },
  {
   "cell_type": "code",
   "execution_count": null,
   "metadata": {
    "colab": {
     "base_uri": "https://localhost:8080/"
    },
    "id": "bD1sdgYbNWQA",
    "outputId": "62b370dc-7287-4e8b-a472-f958678b8cbb"
   },
   "outputs": [
    {
     "name": "stdout",
     "output_type": "stream",
     "text": [
      "\u001b[91m\u001b[1mRuntime is 281 sec > 60 sec limit!!!\u001b[0m\n"
     ]
    }
   ],
   "source": [
    "tmr.ShowTime()    # measure Colab's runtime. Do not remove. Keep as the last cell in your notebook."
   ]
  },
  {
   "cell_type": "markdown",
   "metadata": {
    "id": "r6uOp1eFwdTv"
   },
   "source": [
    "Для работы в Google Collab использовали аппаратный ускоритель TPU v2-8, так как он обеспечивал лучшую скорость исполнения кода (**менее 60 секунд**). Финальное тестирование кода осуществляли на стандартном ускорителе, так как закончился лимит по использованию TPU v2-8.\n",
    "\n",
    "Если возникнут какие-либо технические проблемы, просим написать в tg - @wearyhead\n"
   ]
  }
 ],
 "metadata": {
  "accelerator": "TPU",
  "colab": {
   "gpuType": "V28",
   "provenance": []
  },
  "kernelspec": {
   "display_name": "Python 3",
   "name": "python3"
  },
  "language_info": {
   "name": "python"
  }
 },
 "nbformat": 4,
 "nbformat_minor": 0
}
